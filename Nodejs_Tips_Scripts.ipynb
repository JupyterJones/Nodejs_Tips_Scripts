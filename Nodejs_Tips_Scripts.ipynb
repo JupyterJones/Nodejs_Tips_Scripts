{
 "cells": [
  {
   "cell_type": "markdown",
   "metadata": {},
   "source": [
    "# List everything in the directory"
   ]
  },
  {
   "cell_type": "code",
   "execution_count": 31,
   "metadata": {},
   "outputs": [
    {
     "name": "stdout",
     "output_type": "stream",
     "text": [
      "Start: ./.git\n",
      "Start: ./.ipynb_checkpoints\n",
      "Start: ./Nodejs_Tips_Scripts.ipynb\n",
      "Start: ./README.md\n",
      "Start: ./Using-Python-for-Utilities.ipynb\n",
      "Start: ./node_modules\n",
      "Start: ./package-lock.json\n",
      "Start: ./package.json\n",
      "./package.json\n",
      "4096\n",
      "./package.json\n",
      "4096\n",
      "./package.json\n",
      "3756\n",
      "./package.json\n",
      "72\n",
      "./package.json\n",
      "3425\n",
      "./package.json\n",
      "4096\n",
      "./package.json\n",
      "310\n",
      "./package.json\n",
      "788\n"
     ]
    }
   ],
   "source": [
    "var fs = require('fs');\n",
    "var path = \".\";\n",
    " \n",
    "fs.readdir(path, function(err, items) {\n",
    "    for (var i=0; i<items.length; i++) {\n",
    "        var file = path + '/' + items[i];\n",
    "        console.log(\"Start: \" + file);\n",
    " \n",
    "        fs.stat(file, function(err, stats) {\n",
    "            console.log(file);\n",
    "            console.log(stats[\"size\"]);\n",
    "        });\n",
    "    }\n",
    "});\n",
    " "
   ]
  },
  {
   "cell_type": "markdown",
   "metadata": {},
   "source": [
    "## list files ignore the .git file (hidden)"
   ]
  },
  {
   "cell_type": "code",
   "execution_count": 32,
   "metadata": {},
   "outputs": [
    {
     "name": "stdout",
     "output_type": "stream",
     "text": [
      "Start: Nodejs_Tips_Scripts.ipynb,README.md,Using-Python-for-Utilities.ipynb,node_modules,package-lock.json,package.json\n"
     ]
    }
   ],
   "source": [
    "fs.readdir('.', (err, list) => {\n",
    "  list = list.filter(item => !(/(^|\\/)\\.[^\\/\\.]/g).test(item));\n",
    "  console.log(\"Start: \" + list);\n",
    "  // Your code\n",
    "});\n"
   ]
  },
  {
   "cell_type": "markdown",
   "metadata": {},
   "source": [
    "## list files with a loop ignore the .git file (hidden)"
   ]
  },
  {
   "cell_type": "code",
   "execution_count": 33,
   "metadata": {},
   "outputs": [
    {
     "name": "stdout",
     "output_type": "stream",
     "text": [
      "Filename:0   ./Nodejs_Tips_Scripts.ipynb\n",
      "Filename:1   ./README.md\n",
      "Filename:2   ./Using-Python-for-Utilities.ipynb\n",
      "Filename:3   ./node_modules\n",
      "Filename:4   ./package-lock.json\n",
      "Filename:5   ./package.json\n"
     ]
    }
   ],
   "source": [
    "fs.readdir('.', (err, list) => {\n",
    "    // ignore the .git\n",
    "    list = list.filter(item => !(/(^|\\/)\\.[^\\/\\.]/g).test(item));\n",
    "    for (var i=0; i<list.length; i++) {\n",
    "        var file = path + '/' + list[i];\n",
    "        //list the files and number them\n",
    "        console.log('Filename:'+i,' ', file);\n",
    "        }\n",
    "});\n"
   ]
  },
  {
   "cell_type": "markdown",
   "metadata": {},
   "source": [
    "## Open and Read a File"
   ]
  },
  {
   "cell_type": "code",
   "execution_count": 34,
   "metadata": {},
   "outputs": [
    {
     "name": "stdout",
     "output_type": "stream",
     "text": [
      "after calling readFile\n",
      "{\n",
      "  \"name\": \"nodejs_tips_scripts\",\n",
      "  \"version\": \"1.0.0\",\n",
      "  \"description\": \"Learning Nodejs using Jupyter Notebook\",\n",
      "  \"main\": \"index.js\",\n",
      "  \"scripts\": {\n",
      "    \"test\": \"echo \\\"Error: no test specified\\\" && exit 1\"\n",
      "  },\n",
      "  \"repository\": {\n",
      "    \"type\": \"git\",\n",
      "    \"url\": \"git+https://github.com/JupyterJones/Nodejs_Tips_Scripts.git\"\n",
      "  },\n",
      "  \"keywords\": [\n",
      "    \"nodejs\",\n",
      "    \"jupyter\",\n",
      "    \"notebook\",\n",
      "    \"learning\",\n",
      "    \"javascript\",\n",
      "    \"lessons\",\n",
      "    \"nodejs\",\n",
      "    \"scripts\",\n",
      "    \"node\"\n",
      "  ],\n",
      "  \"author\": \"JackNorthrup JupyterJones lbry.toolbox@gmail.com\",\n",
      "  \"license\": \"ISC\",\n",
      "  \"bugs\": {\n",
      "    \"url\": \"https://github.com/JupyterJones/Nodejs_Tips_Scripts/issues\"\n",
      "  },\n",
      "  \"homepage\": \"https://github.com/JupyterJones/Nodejs_Tips_Scripts#readme\",\n",
      "  \"dependencies\": {\n",
      "    \"fs\": \"0.0.1-security\"\n",
      "  }\n",
      "}\n",
      "\n"
     ]
    }
   ],
   "source": [
    "var fs = require('fs');\n",
    " \n",
    "fs.readFile('package.json', 'utf8', function(err, contents) {\n",
    "    console.log(contents);\n",
    "});\n",
    " \n",
    "console.log('after calling readFile');"
   ]
  },
  {
   "cell_type": "code",
   "execution_count": null,
   "metadata": {},
   "outputs": [],
   "source": []
  }
 ],
 "metadata": {
  "kernelspec": {
   "display_name": "Node.js",
   "language": "javascript",
   "name": "javascript"
  },
  "language_info": {
   "file_extension": ".js",
   "mimetype": "application/javascript",
   "name": "javascript",
   "version": "12.14.0"
  },
  "toc": {
   "base_numbering": 1,
   "nav_menu": {},
   "number_sections": true,
   "sideBar": true,
   "skip_h1_title": false,
   "title_cell": "Table of Contents",
   "title_sidebar": "Contents",
   "toc_cell": false,
   "toc_position": {},
   "toc_section_display": true,
   "toc_window_display": false
  }
 },
 "nbformat": 4,
 "nbformat_minor": 4
}
