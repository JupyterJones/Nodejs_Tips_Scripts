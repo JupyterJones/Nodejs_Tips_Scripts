{
 "cells": [
  {
   "cell_type": "markdown",
   "metadata": {},
   "source": [
    "# FOR-Utilities"
   ]
  },
  {
   "cell_type": "code",
   "execution_count": null,
   "metadata": {},
   "outputs": [],
   "source": [
    "This notebook is to transfer files,upload download and save files easily.\n",
    "I am much more accustomed to using Python than Nodejs\n",
    "It also will fuction as a record of my nodejs modules installed"
   ]
  },
  {
   "cell_type": "code",
   "execution_count": 2,
   "metadata": {},
   "outputs": [
    {
     "name": "stdout",
     "output_type": "stream",
     "text": [
      "{\n",
      "  \"name\": \"nodejs_tips_scripts\",\n",
      "  \"version\": \"1.0.0\",\n",
      "  \"description\": \"Learning Nodejs using Jupyter Notebook\",\n",
      "  \"main\": \"index.js\",\n",
      "  \"scripts\": {\n",
      "    \"test\": \"echo \\\"Error: no test specified\\\" && exit 1\"\n",
      "  },\n",
      "  \"repository\": {\n",
      "    \"type\": \"git\",\n",
      "    \"url\": \"git+https://github.com/JupyterJones/Nodejs_Tips_Scripts.git\"\n",
      "  },\n",
      "  \"keywords\": [\n",
      "    \"nodejs\",\n",
      "    \"jupyter\",\n",
      "    \"notebook\",\n",
      "    \"learning\",\n",
      "    \"javascript\",\n",
      "    \"lessons\",\n",
      "    \"nodejs\",\n",
      "    \"scripts\",\n",
      "    \"node\"\n",
      "  ],\n",
      "  \"author\": \"JackNorthrup JupyterJones lbry.toolbox@gmail.com\",\n",
      "  \"license\": \"ISC\",\n",
      "  \"bugs\": {\n",
      "    \"url\": \"https://github.com/JupyterJones/Nodejs_Tips_Scripts/issues\"\n",
      "  },\n",
      "  \"homepage\": \"https://github.com/JupyterJones/Nodejs_Tips_Scripts#readme\",\n",
      "  \"dependencies\": {\n",
      "    \"fs\": \"0.0.1-security\"\n",
      "  }\n",
      "}\n",
      "\n"
     ]
    }
   ],
   "source": [
    "packages=open(\"package.json\").read()\n",
    "print packages"
   ]
  },
  {
   "cell_type": "code",
   "execution_count": 1,
   "metadata": {},
   "outputs": [
    {
     "name": "stdout",
     "output_type": "stream",
     "text": [
      "\u001b[K\u001b[?25h\u001b[37;40mnpm\u001b[0m \u001b[0m\u001b[34;40mnotice\u001b[0m\u001b[35m\u001b[0m created a lockfile as package-lock.json. You should commit this file.\n",
      "\u001b[K\u001b[?25h+ fs@0.0.1-security[27m\u001b[90m......\u001b[0m] - postinstall: \u001b[34;40mnotice\u001b[0m created a lockfile as package-lock.j\u001b[0m\u001b[K\n",
      "added 1 package and audited 1 package in 1.737s\n",
      "found \u001b[92m0\u001b[0m vulnerabilities\n",
      "\n"
     ]
    }
   ],
   "source": [
    "!npm install fs --save"
   ]
  }
 ],
 "metadata": {
  "kernelspec": {
   "display_name": "Python2",
   "language": "python",
   "name": "python2"
  },
  "language_info": {
   "codemirror_mode": {
    "name": "ipython",
    "version": 2
   },
   "file_extension": ".py",
   "mimetype": "text/x-python",
   "name": "python",
   "nbconvert_exporter": "python",
   "pygments_lexer": "ipython2",
   "version": "2.7.15rc1"
  },
  "toc": {
   "base_numbering": 1,
   "nav_menu": {},
   "number_sections": true,
   "sideBar": true,
   "skip_h1_title": false,
   "title_cell": "Table of Contents",
   "title_sidebar": "Contents",
   "toc_cell": false,
   "toc_position": {},
   "toc_section_display": true,
   "toc_window_display": false
  }
 },
 "nbformat": 4,
 "nbformat_minor": 4
}
