{
 "cells": [
  {
   "cell_type": "markdown",
   "metadata": {},
   "source": [
    "# FOR-Utilities"
   ]
  },
  {
   "cell_type": "code",
   "execution_count": 3,
   "metadata": {},
   "outputs": [
    {
     "name": "stdout",
     "output_type": "stream",
     "text": [
      "[master cb65aff] getting directory list with nodejs and printing a file\r\n",
      " 8 files changed, 470 insertions(+)\r\n",
      " create mode 100644 .ipynb_checkpoints/Nodejs_Tips_Scripts-checkpoint.ipynb\r\n",
      " create mode 100644 .ipynb_checkpoints/Using-Python-for-Utilities-checkpoint.ipynb\r\n",
      " create mode 100644 Nodejs_Tips_Scripts.ipynb\r\n",
      " create mode 100644 Using-Python-for-Utilities.ipynb\r\n",
      " create mode 100644 node_modules/fs/README.md\r\n",
      " create mode 100644 node_modules/fs/package.json\r\n",
      " create mode 100644 package-lock.json\r\n",
      " create mode 100644 package.json\r\n"
     ]
    }
   ],
   "source": [
    "!git add .\n",
    "!git commit -m \"getting directory list with nodejs and printing a file\""
   ]
  },
  {
   "cell_type": "code",
   "execution_count": null,
   "metadata": {},
   "outputs": [],
   "source": [
    "This notebook is to transfer files,upload download and save files easily.\n",
    "I am much more accustomed to using Python than Nodejs\n",
    "It also will fuction as a record of my nodejs modules installed"
   ]
  },
  {
   "cell_type": "code",
   "execution_count": 2,
   "metadata": {},
   "outputs": [
    {
     "name": "stdout",
     "output_type": "stream",
     "text": [
      "{\n",
      "  \"name\": \"nodejs_tips_scripts\",\n",
      "  \"version\": \"1.0.0\",\n",
      "  \"description\": \"Learning Nodejs using Jupyter Notebook\",\n",
      "  \"main\": \"index.js\",\n",
      "  \"scripts\": {\n",
      "    \"test\": \"echo \\\"Error: no test specified\\\" && exit 1\"\n",
      "  },\n",
      "  \"repository\": {\n",
      "    \"type\": \"git\",\n",
      "    \"url\": \"git+https://github.com/JupyterJones/Nodejs_Tips_Scripts.git\"\n",
      "  },\n",
      "  \"keywords\": [\n",
      "    \"nodejs\",\n",
      "    \"jupyter\",\n",
      "    \"notebook\",\n",
      "    \"learning\",\n",
      "    \"javascript\",\n",
      "    \"lessons\",\n",
      "    \"nodejs\",\n",
      "    \"scripts\",\n",
      "    \"node\"\n",
      "  ],\n",
      "  \"author\": \"JackNorthrup JupyterJones lbry.toolbox@gmail.com\",\n",
      "  \"license\": \"ISC\",\n",
      "  \"bugs\": {\n",
      "    \"url\": \"https://github.com/JupyterJones/Nodejs_Tips_Scripts/issues\"\n",
      "  },\n",
      "  \"homepage\": \"https://github.com/JupyterJones/Nodejs_Tips_Scripts#readme\",\n",
      "  \"dependencies\": {\n",
      "    \"fs\": \"0.0.1-security\"\n",
      "  }\n",
      "}\n",
      "\n"
     ]
    }
   ],
   "source": [
    "packages=open(\"package.json\").read()\n",
    "print packages"
   ]
  },
  {
   "cell_type": "code",
   "execution_count": 6,
   "metadata": {},
   "outputs": [
    {
     "name": "stdout",
     "output_type": "stream",
     "text": [
      "\u001b[K\u001b[?25h\u001b[37;40mnpm\u001b[0m \u001b[0m\u001b[30;43mWARN\u001b[0m \u001b[0m\u001b[35mdeprecated\u001b[0m request@2.88.2: request has been deprecated, see https://github.com/request/request/issues/3142\n",
      "\u001b[K\u001b[?25h        \u001b[27m\u001b[90m......\u001b[0m] / install:sqlite3: \u001b[7msill\u001b[0m \u001b[35mdoSerial\u001b[0m install 832\u001b[0m\u001b[K /home/\u001b[0m\u001b[KK\u001b[KK\n",
      "> sqlite3@4.1.1 install /home/jack/Desktop/Nodejs_Tips_Scripts/node_modules/sqlite3\n",
      "> node-pre-gyp install --fallback-to-build\n",
      "\n",
      "\u001b[37;40mnode-pre-gyp\u001b[0m \u001b[0m\u001b[30;43mWARN\u001b[0m \u001b[0m\u001b[35mUsing request for node-pre-gyp https download\u001b[0m \n",
      "\u001b[0m[sqlite3] Success: \"/home/jack/Desktop/Nodejs_Tips_Scripts/node_modules/sqlite3/lib/binding/node-v72-linux-x64/node_sqlite3.node\" is installed via remote\n",
      "\u001b[K\u001b[?25h+ sqlite3@4.1.190m......\u001b[0m] | postinstall: \u001b[32minfo\u001b[0m \u001b[35mlifecycle\u001b[0m sqlite3@4.1.1~postinstall: s\u001b[0m\u001b[K[0m\u001b[K\n",
      "added 104 packages from 100 contributors and audited 185 packages in 25.746s\n",
      "\n",
      "1 package is looking for funding\n",
      "  run `npm fund` for details\n",
      "\n",
      "found \u001b[92m0\u001b[0m vulnerabilities\n",
      "\n",
      "\u001b[K\u001b[?25h7m            \u001b[27m\u001b[90m......\u001b[0m] - postinstall: \u001b[7msill\u001b[0m \u001b[35minstall\u001b[0m printInstalled\u001b[0m\u001b[K"
     ]
    }
   ],
   "source": [
    "!npm install sqlite3 -save"
   ]
  },
  {
   "cell_type": "code",
   "execution_count": 5,
   "metadata": {},
   "outputs": [
    {
     "name": "stdout",
     "output_type": "stream",
     "text": [
      "\u001b[K\u001b[?25h+ http@0.0.0m\u001b[90m......\u001b[0m] - postinstall: \u001b[32minfo\u001b[0m \u001b[35mlifecycle\u001b[0m http@0.0.0~postinstall: http\u001b[0m\u001b[K\u001b[K\n",
      "added 1 package and audited 23 packages in 2.553s\n",
      "found \u001b[92m0\u001b[0m vulnerabilities\n",
      "\n"
     ]
    }
   ],
   "source": [
    "!npm install http --save"
   ]
  },
  {
   "cell_type": "code",
   "execution_count": 4,
   "metadata": {},
   "outputs": [
    {
     "name": "stdout",
     "output_type": "stream",
     "text": [
      "\u001b[K\u001b[?25h+ mongodb@3.5.390m......\u001b[0m] | postinstall: \u001b[32minfo\u001b[0m \u001b[35mlifecycle\u001b[0m mongodb@3.5.3~postinstall: m\u001b[0m\u001b[K\u001b[K\n",
      "added 20 packages from 11 contributors and audited 22 packages in 5.715s\n",
      "found \u001b[92m0\u001b[0m vulnerabilities\n",
      "\n",
      "\u001b[K\u001b[?25h7m            \u001b[27m\u001b[90m......\u001b[0m] - postinstall: \u001b[7msill\u001b[0m \u001b[35minstall\u001b[0m printInstalled\u001b[0m\u001b[K"
     ]
    }
   ],
   "source": [
    "!npm install mongodb --save"
   ]
  },
  {
   "cell_type": "code",
   "execution_count": 1,
   "metadata": {},
   "outputs": [
    {
     "name": "stdout",
     "output_type": "stream",
     "text": [
      "\u001b[K\u001b[?25h\u001b[37;40mnpm\u001b[0m \u001b[0m\u001b[34;40mnotice\u001b[0m\u001b[35m\u001b[0m created a lockfile as package-lock.json. You should commit this file.\n",
      "\u001b[K\u001b[?25h+ fs@0.0.1-security[27m\u001b[90m......\u001b[0m] - postinstall: \u001b[34;40mnotice\u001b[0m created a lockfile as package-lock.j\u001b[0m\u001b[K\n",
      "added 1 package and audited 1 package in 1.737s\n",
      "found \u001b[92m0\u001b[0m vulnerabilities\n",
      "\n"
     ]
    }
   ],
   "source": [
    "!npm install fs --save"
   ]
  },
  {
   "cell_type": "code",
   "execution_count": null,
   "metadata": {},
   "outputs": [],
   "source": [
    "sudo apt install mongodb-clients"
   ]
  }
 ],
 "metadata": {
  "kernelspec": {
   "display_name": "Python2",
   "language": "python",
   "name": "python2"
  },
  "language_info": {
   "codemirror_mode": {
    "name": "ipython",
    "version": 2
   },
   "file_extension": ".py",
   "mimetype": "text/x-python",
   "name": "python",
   "nbconvert_exporter": "python",
   "pygments_lexer": "ipython2",
   "version": "2.7.15rc1"
  },
  "toc": {
   "base_numbering": 1,
   "nav_menu": {},
   "number_sections": true,
   "sideBar": true,
   "skip_h1_title": false,
   "title_cell": "Table of Contents",
   "title_sidebar": "Contents",
   "toc_cell": false,
   "toc_position": {},
   "toc_section_display": true,
   "toc_window_display": false
  }
 },
 "nbformat": 4,
 "nbformat_minor": 4
}
