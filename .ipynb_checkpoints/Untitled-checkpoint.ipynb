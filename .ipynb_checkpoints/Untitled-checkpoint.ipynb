{
 "cells": [
  {
   "cell_type": "markdown",
   "metadata": {},
   "source": [
    "This is the common use:<br />\n",
    "`const fs = require('fs')`<br />\n",
    "However in Jupyter Notebook once a variable is used in a cell the notebbook must be reloaded<br />\n",
    "<b>OR</b><br />\n",
    "the name of the variable must be changed.such as:<br />\n",
    "`const fsx = require('fs')`<br />\n",
    "`const fsy = require('fs')`<br />\n",
    "You will see that in the cells below.<br />"
   ]
  },
  {
   "cell_type": "markdown",
   "metadata": {},
   "source": [
    "## Delete the file `test.html`"
   ]
  },
  {
   "cell_type": "code",
   "execution_count": 3,
   "metadata": {},
   "outputs": [
    {
     "ename": "SyntaxError",
     "evalue": "Identifier 'fs' has already been declared",
     "output_type": "error",
     "traceback": [
      "evalmachine.<anonymous>:1",
      "const fs = require('fs')",
      "^",
      "",
      "SyntaxError: Identifier 'fs' has already been declared",
      "    at evalmachine.<anonymous>:1:1",
      "    at Script.runInThisContext (vm.js:116:20)",
      "    at Object.runInThisContext (vm.js:306:38)",
      "    at run ([eval]:1054:15)",
      "    at onRunRequest ([eval]:888:18)",
      "    at onMessage ([eval]:848:13)",
      "    at process.emit (events.js:210:5)",
      "    at emit (internal/child_process.js:876:12)",
      "    at processTicksAndRejections (internal/process/task_queues.js:81:21)"
     ]
    }
   ],
   "source": [
    "const fs = require('fs')\n",
    "const path = 'test.html'\n",
    "try {\n",
    "  fs.unlinkSync(path)\n",
    "  //file removed\n",
    "} catch(err) {\n",
    "  console.error(err)\n",
    "}\n"
   ]
  },
  {
   "cell_type": "markdown",
   "metadata": {},
   "source": [
    "# Create a file\n",
    "Notice the use of back-ticks to enclose the multi-line entry"
   ]
  },
  {
   "cell_type": "code",
   "execution_count": 2,
   "metadata": {},
   "outputs": [
    {
     "name": "stdout",
     "output_type": "stream",
     "text": [
      "Saved!\n"
     ]
    }
   ],
   "source": [
    "var fsx = require('fs');\n",
    "CONTENT =`\n",
    "<html>\n",
    "  <h1 style=\"color:red;\">\"license\": \"ISC\"</h1></br>\n",
    "  <p>\"bugs\": {</br/>\n",
    "    \"url\": \"https://github.com/JupyterJones/Nodejs_Tips_Scripts/issues\"</br/>\n",
    "  },</br/>\n",
    "  \"homepage\": \"https://github.com/JupyterJones/Nodejs_Tips_Scripts#readme\",</br/>\n",
    "  \"dependencies\": {</p></br/></br/>\n",
    "    \"fs\": \"0.0.1-security\"</br/>\n",
    "</html>\n",
    "`\n",
    "// again this is using `appendFile` if run twice it adds the same content again\n",
    "fsx.appendFile('test.html', CONTENT, function (err) {\n",
    "  if (err) throw err;\n",
    "  console.log('Saved!');\n",
    "}); "
   ]
  },
  {
   "cell_type": "markdown",
   "metadata": {},
   "source": [
    "# Serve html file"
   ]
  },
  {
   "cell_type": "code",
   "execution_count": 5,
   "metadata": {},
   "outputs": [
    {
     "data": {
      "text/plain": [
       "Server {\n",
       "  _events: [Object: null prototype] {\n",
       "    request: [Function],\n",
       "    connection: [Function: connectionListener]\n",
       "  },\n",
       "  _eventsCount: 2,\n",
       "  _maxListeners: undefined,\n",
       "  _connections: 0,\n",
       "  _handle: TCP {\n",
       "    reading: false,\n",
       "    onconnection: [Function: onconnection],\n",
       "    [Symbol(owner)]: [Circular]\n",
       "  },\n",
       "  _usingWorkers: false,\n",
       "  _workers: [],\n",
       "  _unref: false,\n",
       "  allowHalfOpen: true,\n",
       "  pauseOnConnect: false,\n",
       "  httpAllowHalfOpen: false,\n",
       "  timeout: 120000,\n",
       "  keepAliveTimeout: 5000,\n",
       "  maxHeadersCount: null,\n",
       "  headersTimeout: 40000,\n",
       "  _connectionKey: '6::::8080',\n",
       "  [Symbol(IncomingMessage)]: [Function: IncomingMessage],\n",
       "  [Symbol(ServerResponse)]: [Function: ServerResponse],\n",
       "  [Symbol(asyncId)]: 37\n",
       "}"
      ]
     },
     "execution_count": 5,
     "metadata": {},
     "output_type": "execute_result"
    }
   ],
   "source": [
    "var http = require('http');\n",
    "var fsy = require('fs');\n",
    "http.createServer(function (req, res) {\n",
    "  fsy.readFile('test.html', function(err, data) {\n",
    "    res.writeHead(200, {'Content-Type': 'text/html'});\n",
    "    res.write(data);\n",
    "    res.end();\n",
    "  });\n",
    "}).listen(8080); "
   ]
  },
  {
   "cell_type": "code",
   "execution_count": 2,
   "metadata": {},
   "outputs": [],
   "source": [
    "var html = `\n",
    "  <div>\n",
    "    <span>Some HTML here</span>\n",
    "  </div>\n",
    "`;\n",
    "console.log(html)"
   ]
  },
  {
   "cell_type": "code",
   "execution_count": 3,
   "metadata": {},
   "outputs": [
    {
     "name": "stdout",
     "output_type": "stream",
     "text": [
      "\n",
      "  <div>\n",
      "    <span>Some HTML here</span>\n",
      "  </div>\n",
      "\n"
     ]
    }
   ],
   "source": [
    "console.log(html)"
   ]
  },
  {
   "cell_type": "code",
   "execution_count": null,
   "metadata": {},
   "outputs": [],
   "source": []
  }
 ],
 "metadata": {
  "kernelspec": {
   "display_name": "Node.js",
   "language": "javascript",
   "name": "javascript"
  },
  "language_info": {
   "file_extension": ".js",
   "mimetype": "application/javascript",
   "name": "javascript",
   "version": "12.14.0"
  },
  "toc": {
   "base_numbering": 1,
   "nav_menu": {},
   "number_sections": true,
   "sideBar": true,
   "skip_h1_title": false,
   "title_cell": "Table of Contents",
   "title_sidebar": "Contents",
   "toc_cell": false,
   "toc_position": {},
   "toc_section_display": true,
   "toc_window_display": false
  }
 },
 "nbformat": 4,
 "nbformat_minor": 4
}
