{
 "cells": [
  {
   "cell_type": "markdown",
   "metadata": {},
   "source": [
    "# There is no reason to re-invent the wheel. \n",
    "## These two sites are excellent resources to guide you through the installation."
   ]
  },
  {
   "cell_type": "markdown",
   "metadata": {},
   "source": [
    "# How to install Jupyter Notebook\n",
    "## Great resource\n",
    "\n",
    "https://www.vultr.com/docs/how-to-install-jupyter-notebook-on-a-vultr-ubuntu-16-04-server-instance?gclid=Cj0KCQiAkKnyBRDwARIsALtxe7gb5QMMsq6XQn_hEHWdk6KBe_O8GU5eQfP7eUISIyb2x-2pPYzM7MwaAlDJEALw_wcB"
   ]
  },
  {
   "cell_type": "markdown",
   "metadata": {},
   "source": [
    "# How to Create a Node js Notebook \n",
    "https://github.com/n-riesco/ijavascript"
   ]
  },
  {
   "cell_type": "code",
   "execution_count": null,
   "metadata": {},
   "outputs": [],
   "source": []
  }
 ],
 "metadata": {
  "kernelspec": {
   "display_name": "Node.js",
   "language": "javascript",
   "name": "javascript"
  },
  "language_info": {
   "file_extension": ".js",
   "mimetype": "application/javascript",
   "name": "javascript",
   "version": "12.14.0"
  },
  "toc": {
   "base_numbering": 1,
   "nav_menu": {},
   "number_sections": true,
   "sideBar": true,
   "skip_h1_title": false,
   "title_cell": "Table of Contents",
   "title_sidebar": "Contents",
   "toc_cell": false,
   "toc_position": {},
   "toc_section_display": true,
   "toc_window_display": false
  }
 },
 "nbformat": 4,
 "nbformat_minor": 4
}
